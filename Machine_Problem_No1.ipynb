{
  "nbformat": 4,
  "nbformat_minor": 0,
  "metadata": {
    "colab": {
      "provenance": [],
      "authorship_tag": "ABX9TyPsaxrHhrWQB05zt0H5I22L",
      "include_colab_link": true
    },
    "kernelspec": {
      "name": "python3",
      "display_name": "Python 3"
    },
    "language_info": {
      "name": "python"
    }
  },
  "cells": [
    {
      "cell_type": "markdown",
      "metadata": {
        "id": "view-in-github",
        "colab_type": "text"
      },
      "source": [
        "<a href=\"https://colab.research.google.com/github/maaxzxz/CSST101-3B-AY2526/blob/main/Machine_Problem_No1.ipynb\" target=\"_parent\"><img src=\"https://colab.research.google.com/assets/colab-badge.svg\" alt=\"Open In Colab\"/></a>"
      ]
    },
    {
      "cell_type": "code",
      "execution_count": 105,
      "metadata": {
        "id": "9BG4RD9NYpLS"
      },
      "outputs": [],
      "source": []
    },
    {
      "cell_type": "markdown",
      "source": [
        "Enhance Mini Expert System: University Logic Rules\n",
        "With CSV Logging for Record-Keeping"
      ],
      "metadata": {
        "id": "BiRNeEw_YyV8"
      }
    },
    {
      "cell_type": "code",
      "source": [
        "# -------- Logic Functions ---------\n",
        "def impl (P, Q):\n",
        "  return (not P) or Q # Implication (P -> Q)\n",
        "\n",
        "def tf (b: bool) -> str:\n",
        "  return \"T\" if b else \"F\""
      ],
      "metadata": {
        "id": "vwVt6cl5mBZ7"
      },
      "execution_count": 106,
      "outputs": []
    },
    {
      "cell_type": "code",
      "source": [
        "# --------- Logger ---------\n",
        "def log_result(student_name, rule_name, result):\n",
        "  with open(\"logic_result.csv\", \"a\", newline=\"\") as file:\n",
        "      writer = csv.writer(file)\n",
        "      writer.writerow([datetime.now().strftime(\"%Y-%m-%d %H:%M:%S\") , student_name, rule_name, result])\n"
      ],
      "metadata": {
        "id": "bgXvdrU9mHfe"
      },
      "execution_count": 107,
      "outputs": []
    },
    {
      "cell_type": "code",
      "source": [
        "# --------- Rule 1: Attendance ---------\n",
        "def attendance_rule(student_name):\n",
        "  print(\"\\n--- Attendance Rule Checker ----\")\n",
        "  late = input(\"Is the student late? (T/F): \").strip().upper() == \"T\"\n",
        "  excuse = input(\"Did the student bring excuse letter? (T/F): \").strip().upper() == \"T\"\n",
        "\n",
        "  result = impl(late, excuse)\n",
        "  outcome = \"Satisfied 🍀\" if result else \"Violated 💥\"\n",
        "\n",
        "  print(f\"P = {tf(late)} (Late), Q = {tf(excuse)} (Excuse Letter)\")\n",
        "  print(\"Result:\", outcome)\n",
        "\n",
        "  log_result(student_name, \"Attendance Rule\", outcome)"
      ],
      "metadata": {
        "id": "cD_OReURmKg-"
      },
      "execution_count": 108,
      "outputs": []
    },
    {
      "cell_type": "code",
      "source": [
        "# ------ RULE 2: Grading ---------\n",
        "def grading_rule(student_name):\n",
        "  print(\"\\n--- Grading Rule Checker\")\n",
        "  try:\n",
        "    grade = float(input(\"Enter student grade: \"))\n",
        "  except ValueError:\n",
        "    print(\"Invalid grade input.\")\n",
        "    return\n",
        "\n",
        "  P = grade < 75\n",
        "  Q = grade >= 75 # pass if >75\n",
        "  result = impl(P, Q)\n",
        "  outcome = \"Satisfied 🍀\" if result else \"Violated 💥\"\n",
        "\n",
        "  print(f\"P = {tf(P)} (grade >= 75), Q = {tf(Q)} (student passes)\")\n",
        "  print(\"Result:\", outcome)\n",
        "\n",
        "  log_result(student_name, \"Grading Rule\", outcome)"
      ],
      "metadata": {
        "id": "7UrKKsdLmSLd"
      },
      "execution_count": 109,
      "outputs": []
    },
    {
      "cell_type": "code",
      "source": [
        "# ------ RULE 3: Login System ---------\n",
        "def login_rule(student_name):\n",
        "  print(\"\\n--- Login Rule Checker ---\")\n",
        "  correct_password = \"admin123\"\n",
        "  attempt = input(\"Enter password: \")\n",
        "\n",
        "  P = (attempt == correct_password)  # Password correct?\n",
        "  Q = (attempt == correct_password)  # Access granted if correct\n",
        "  result = impl(P, Q)\n",
        "  outcome = \"Access granted 🍀\" if P else \"Access denied 💥\"\n",
        "\n",
        "  print(f\"P = {tf(P)} (Password Correct), Q = {tf(Q)} (Access Granted)\")\n",
        "  print(\"Result:\", outcome)"
      ],
      "metadata": {
        "id": "mpZtTzJXmVqI"
      },
      "execution_count": 110,
      "outputs": []
    },
    {
      "cell_type": "code",
      "source": [
        "# ------ RULE 4: Bonus Points ------\n",
        "def bonus_rule(student_name):\n",
        "  print(\"\\n--- Bonus Points Eligibility Checker ---\")\n",
        "  regular = input(\"Does the student have regular attendance? (T/F): \").strip().upper() == \"T\"\n",
        "  result = regular\n",
        "  outcome = \"Satisfied 🍀\" if result else \"Violated 💥\"\n",
        "\n",
        "  print(f\"P = {tf(regular)} (Regular Attendance)\")\n",
        "  print(\"Result:\", outcome)\n",
        "  log_result(student_name, \"Bonus Rule\", outcome)"
      ],
      "metadata": {
        "id": "Su9yp31AmYog"
      },
      "execution_count": 111,
      "outputs": []
    },
    {
      "cell_type": "code",
      "source": [
        "# ------- RULE 5: Laboratory Access --------\n",
        "def lab_access_rule(student_name):\n",
        "  print(\"\\n--- Laboratory Access ----\")\n",
        "  gear_worn = input(\"Is the student wearing safety gear (T/F) \").strip().upper() == \"T\"\n",
        "\n",
        "  result = gear_worn\n",
        "  outcome = \"Eligible.\" if result else \"Not Eligible.\"\n",
        "\n",
        "  print(f\"P = {tf(gear_worn)} (Safety Gear)\")\n",
        "  print(\"Result:\", outcome)\n",
        "\n",
        "  log_result(student_name, \"Lab Access Rule\", outcome)"
      ],
      "metadata": {
        "id": "Nq2eEJMUqpcr"
      },
      "execution_count": 112,
      "outputs": []
    },
    {
      "cell_type": "code",
      "source": [
        "# ------- Main Menu -------\n",
        "def main():\n",
        "  print(\"=== University Logic Rules System ===\")\n",
        "  student_name = input(\"Enter student name: \").strip()\n",
        "\n",
        "  while True:\n",
        "    print(\"\\n==============\")\n",
        "    print(\" Main Menu \")\n",
        "    print(\"==================\")\n",
        "    print(\"1) Attendance Rule Checker\")\n",
        "    print(\"2) Grading Rule Checker\")\n",
        "    print(\"3) Login System Rule Checker\")\n",
        "    print(\"4) Bonus Points Checker\")\n",
        "    print(\"5) Laboratory Access\")\n",
        "    print(\"6) Exit\")\n",
        "\n",
        "    choice = input(\"Choose an option (1-5): \").strip()\n",
        "\n",
        "    if choice == \"1\":\n",
        "      attendance_rule(student_name)\n",
        "    elif choice == \"2\":\n",
        "      grading_rule(student_name)\n",
        "    elif choice == \"3\":\n",
        "      login_rule(student_name)\n",
        "    elif choice == \"4\":\n",
        "      bonus_rule(student_name)\n",
        "    elif choice == \"5\":\n",
        "      lab_access_rule(student_name)\n",
        "    elif choice == \"6\":\n",
        "      print(\"Existing... Results saved to logic_results.csv\")\n",
        "      break\n",
        "    else:\n",
        "      print(\"Invalid choice. Try again. 💥\")\n",
        "\n",
        "if __name__== \"__main__\":\n",
        "  # Create CSV with headers if not exists\n",
        "  with open(\"logic_results.csv\", \"a\", newline=\"\") as file:\n",
        "    writer = csv.writer(file)\n",
        "    if file.tell() == 0: # only write header if file is empty\n",
        "      writer.writerow([\"Timestamp\", \"Student Name\", \"Rule\", \"Result\"])\n",
        "  main()"
      ],
      "metadata": {
        "colab": {
          "base_uri": "https://localhost:8080/",
          "height": 792
        },
        "collapsed": true,
        "id": "RE7N9902meyR",
        "outputId": "cca467fe-af0e-4ba0-d846-540f54eee9f5"
      },
      "execution_count": 113,
      "outputs": [
        {
          "output_type": "stream",
          "name": "stdout",
          "text": [
            "=== University Logic Rules System ===\n",
            "Enter student name: T\n",
            "\n",
            "==============\n",
            " Main Menu \n",
            "==================\n",
            "1) Attendance Rule Checker\n",
            "2) Grading Rule Checker\n",
            "3) Login System Rule Checker\n",
            "4) Bonus Points Checker\n",
            "5) Laboratory Access\n",
            "6) Exit\n",
            "Choose an option (1-5): 3\n",
            "\n",
            "--- Login Rule Checker ---\n",
            "Enter password: adw\n",
            "P = F (Password Correct), Q = F (Access Granted)\n",
            "Result: Access denied 💥\n",
            "\n",
            "==============\n",
            " Main Menu \n",
            "==================\n",
            "1) Attendance Rule Checker\n",
            "2) Grading Rule Checker\n",
            "3) Login System Rule Checker\n",
            "4) Bonus Points Checker\n",
            "5) Laboratory Access\n",
            "6) Exit\n"
          ]
        },
        {
          "output_type": "error",
          "ename": "KeyboardInterrupt",
          "evalue": "Interrupted by user",
          "traceback": [
            "\u001b[0;31m---------------------------------------------------------------------------\u001b[0m",
            "\u001b[0;31mKeyboardInterrupt\u001b[0m                         Traceback (most recent call last)",
            "\u001b[0;32m/tmp/ipython-input-648439958.py\u001b[0m in \u001b[0;36m<cell line: 0>\u001b[0;34m()\u001b[0m\n\u001b[1;32m     39\u001b[0m     \u001b[0;32mif\u001b[0m \u001b[0mfile\u001b[0m\u001b[0;34m.\u001b[0m\u001b[0mtell\u001b[0m\u001b[0;34m(\u001b[0m\u001b[0;34m)\u001b[0m \u001b[0;34m==\u001b[0m \u001b[0;36m0\u001b[0m\u001b[0;34m:\u001b[0m \u001b[0;31m# only write header if file is empty\u001b[0m\u001b[0;34m\u001b[0m\u001b[0;34m\u001b[0m\u001b[0m\n\u001b[1;32m     40\u001b[0m       \u001b[0mwriter\u001b[0m\u001b[0;34m.\u001b[0m\u001b[0mwriterow\u001b[0m\u001b[0;34m(\u001b[0m\u001b[0;34m[\u001b[0m\u001b[0;34m\"Timestamp\"\u001b[0m\u001b[0;34m,\u001b[0m \u001b[0;34m\"Student Name\"\u001b[0m\u001b[0;34m,\u001b[0m \u001b[0;34m\"Rule\"\u001b[0m\u001b[0;34m,\u001b[0m \u001b[0;34m\"Result\"\u001b[0m\u001b[0;34m]\u001b[0m\u001b[0;34m)\u001b[0m\u001b[0;34m\u001b[0m\u001b[0;34m\u001b[0m\u001b[0m\n\u001b[0;32m---> 41\u001b[0;31m   \u001b[0mmain\u001b[0m\u001b[0;34m(\u001b[0m\u001b[0;34m)\u001b[0m\u001b[0;34m\u001b[0m\u001b[0;34m\u001b[0m\u001b[0m\n\u001b[0m",
            "\u001b[0;32m/tmp/ipython-input-648439958.py\u001b[0m in \u001b[0;36mmain\u001b[0;34m()\u001b[0m\n\u001b[1;32m     15\u001b[0m     \u001b[0mprint\u001b[0m\u001b[0;34m(\u001b[0m\u001b[0;34m\"6) Exit\"\u001b[0m\u001b[0;34m)\u001b[0m\u001b[0;34m\u001b[0m\u001b[0;34m\u001b[0m\u001b[0m\n\u001b[1;32m     16\u001b[0m \u001b[0;34m\u001b[0m\u001b[0m\n\u001b[0;32m---> 17\u001b[0;31m     \u001b[0mchoice\u001b[0m \u001b[0;34m=\u001b[0m \u001b[0minput\u001b[0m\u001b[0;34m(\u001b[0m\u001b[0;34m\"Choose an option (1-5): \"\u001b[0m\u001b[0;34m)\u001b[0m\u001b[0;34m.\u001b[0m\u001b[0mstrip\u001b[0m\u001b[0;34m(\u001b[0m\u001b[0;34m)\u001b[0m\u001b[0;34m\u001b[0m\u001b[0;34m\u001b[0m\u001b[0m\n\u001b[0m\u001b[1;32m     18\u001b[0m \u001b[0;34m\u001b[0m\u001b[0m\n\u001b[1;32m     19\u001b[0m     \u001b[0;32mif\u001b[0m \u001b[0mchoice\u001b[0m \u001b[0;34m==\u001b[0m \u001b[0;34m\"1\"\u001b[0m\u001b[0;34m:\u001b[0m\u001b[0;34m\u001b[0m\u001b[0;34m\u001b[0m\u001b[0m\n",
            "\u001b[0;32m/usr/local/lib/python3.12/dist-packages/ipykernel/kernelbase.py\u001b[0m in \u001b[0;36mraw_input\u001b[0;34m(self, prompt)\u001b[0m\n\u001b[1;32m   1175\u001b[0m                 \u001b[0;34m\"raw_input was called, but this frontend does not support input requests.\"\u001b[0m\u001b[0;34m\u001b[0m\u001b[0;34m\u001b[0m\u001b[0m\n\u001b[1;32m   1176\u001b[0m             )\n\u001b[0;32m-> 1177\u001b[0;31m         return self._input_request(\n\u001b[0m\u001b[1;32m   1178\u001b[0m             \u001b[0mstr\u001b[0m\u001b[0;34m(\u001b[0m\u001b[0mprompt\u001b[0m\u001b[0;34m)\u001b[0m\u001b[0;34m,\u001b[0m\u001b[0;34m\u001b[0m\u001b[0;34m\u001b[0m\u001b[0m\n\u001b[1;32m   1179\u001b[0m             \u001b[0mself\u001b[0m\u001b[0;34m.\u001b[0m\u001b[0m_parent_ident\u001b[0m\u001b[0;34m[\u001b[0m\u001b[0;34m\"shell\"\u001b[0m\u001b[0;34m]\u001b[0m\u001b[0;34m,\u001b[0m\u001b[0;34m\u001b[0m\u001b[0;34m\u001b[0m\u001b[0m\n",
            "\u001b[0;32m/usr/local/lib/python3.12/dist-packages/ipykernel/kernelbase.py\u001b[0m in \u001b[0;36m_input_request\u001b[0;34m(self, prompt, ident, parent, password)\u001b[0m\n\u001b[1;32m   1217\u001b[0m             \u001b[0;32mexcept\u001b[0m \u001b[0mKeyboardInterrupt\u001b[0m\u001b[0;34m:\u001b[0m\u001b[0;34m\u001b[0m\u001b[0;34m\u001b[0m\u001b[0m\n\u001b[1;32m   1218\u001b[0m                 \u001b[0;31m# re-raise KeyboardInterrupt, to truncate traceback\u001b[0m\u001b[0;34m\u001b[0m\u001b[0;34m\u001b[0m\u001b[0m\n\u001b[0;32m-> 1219\u001b[0;31m                 \u001b[0;32mraise\u001b[0m \u001b[0mKeyboardInterrupt\u001b[0m\u001b[0;34m(\u001b[0m\u001b[0;34m\"Interrupted by user\"\u001b[0m\u001b[0;34m)\u001b[0m \u001b[0;32mfrom\u001b[0m \u001b[0;32mNone\u001b[0m\u001b[0;34m\u001b[0m\u001b[0;34m\u001b[0m\u001b[0m\n\u001b[0m\u001b[1;32m   1220\u001b[0m             \u001b[0;32mexcept\u001b[0m \u001b[0mException\u001b[0m\u001b[0;34m:\u001b[0m\u001b[0;34m\u001b[0m\u001b[0;34m\u001b[0m\u001b[0m\n\u001b[1;32m   1221\u001b[0m                 \u001b[0mself\u001b[0m\u001b[0;34m.\u001b[0m\u001b[0mlog\u001b[0m\u001b[0;34m.\u001b[0m\u001b[0mwarning\u001b[0m\u001b[0;34m(\u001b[0m\u001b[0;34m\"Invalid Message:\"\u001b[0m\u001b[0;34m,\u001b[0m \u001b[0mexc_info\u001b[0m\u001b[0;34m=\u001b[0m\u001b[0;32mTrue\u001b[0m\u001b[0;34m)\u001b[0m\u001b[0;34m\u001b[0m\u001b[0;34m\u001b[0m\u001b[0m\n",
            "\u001b[0;31mKeyboardInterrupt\u001b[0m: Interrupted by user"
          ]
        }
      ]
    }
  ]
}
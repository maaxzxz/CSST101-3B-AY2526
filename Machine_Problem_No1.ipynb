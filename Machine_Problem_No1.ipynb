{
  "nbformat": 4,
  "nbformat_minor": 0,
  "metadata": {
    "colab": {
      "provenance": [],
      "authorship_tag": "ABX9TyM359/FJ0IBK9FM0BCsu6A8",
      "include_colab_link": true
    },
    "kernelspec": {
      "name": "python3",
      "display_name": "Python 3"
    },
    "language_info": {
      "name": "python"
    }
  },
  "cells": [
    {
      "cell_type": "markdown",
      "metadata": {
        "id": "view-in-github",
        "colab_type": "text"
      },
      "source": [
        "<a href=\"https://colab.research.google.com/github/maaxzxz/CSST101-3B-AY2526/blob/main/Machine_Problem_No1.ipynb\" target=\"_parent\"><img src=\"https://colab.research.google.com/assets/colab-badge.svg\" alt=\"Open In Colab\"/></a>"
      ]
    },
    {
      "cell_type": "code",
      "execution_count": 35,
      "metadata": {
        "id": "9BG4RD9NYpLS"
      },
      "outputs": [],
      "source": []
    },
    {
      "cell_type": "markdown",
      "source": [
        "Enhance Mini Expert System: University Logic Rules\n",
        "With CSV Logging for Record-Keeping"
      ],
      "metadata": {
        "id": "BiRNeEw_YyV8"
      }
    },
    {
      "cell_type": "code",
      "source": [
        "# -------- Logic Functions ---------\n",
        "def impl (P, Q):\n",
        "  return (not P) or Q # Implication (P -> Q)\n",
        "\n",
        "def tf (b: bool) -> str:\n",
        "  return \"T\" if b else \"F\""
      ],
      "metadata": {
        "id": "vwVt6cl5mBZ7"
      },
      "execution_count": 36,
      "outputs": []
    },
    {
      "cell_type": "code",
      "source": [
        "# --------- Logger ---------\n",
        "def log_result(student_name, rule_name, result):\n",
        "  with open(\"logic_result.csv\", \"a\", newline=\"\") as file:\n",
        "      writer = csv.writer(file)\n",
        "      writer.writerow([datetime.now().strftime(\"%Y-%m-%d %H:%M:%S\") , student_name, rule_name, result])\n"
      ],
      "metadata": {
        "id": "bgXvdrU9mHfe"
      },
      "execution_count": 37,
      "outputs": []
    },
    {
      "cell_type": "code",
      "source": [
        "# --------- Rule 1: Attendance ---------\n",
        "def attendance_rule(student_name):\n",
        "  print(\"\\n--- Attendance Rule Checker ----\")\n",
        "  late = input(\"Is the student late? (T/F): \").strip().upper() == \"T\"\n",
        "  excuse = input(\"Did the student bring excuse letter? (T/F): \").strip().upper() == \"T\"\n",
        "\n",
        "  result = impl(late, excuse)\n",
        "  outcome = \"Satisfied 🍀\" if result else \"Violated 💥\"\n",
        "\n",
        "  print(f\"P = {tf(late)} (Late), Q = {tf(excuse)} (Excuse Letter)\")\n",
        "  print(\"Result:\", outcome)\n",
        "\n",
        "  log_result(student_name, \"Attendance Rule\", outcome)"
      ],
      "metadata": {
        "id": "cD_OReURmKg-"
      },
      "execution_count": 38,
      "outputs": []
    },
    {
      "cell_type": "code",
      "source": [
        "# ------ RULE 2: Grading ---------\n",
        "def grading_rule(student_name):\n",
        "  print(\"\\n--- Grading Rule Checker\")\n",
        "  try:\n",
        "    grade = float(input(\"Enter student grade: \"))\n",
        "  except ValueError:\n",
        "    print(\"Invalid grade input.\")\n",
        "    return\n",
        "\n",
        "  P = grade < 75\n",
        "  Q = grade >= 75 # pass if >75\n",
        "  result = impl(P, Q)\n",
        "  outcome = \"Satisfied 🍀\" if result else \"Violated 💥\"\n",
        "\n",
        "  print(f\"P = {tf(P)} (grade >= 75), Q = {tf(Q)} (student passes)\")\n",
        "  print(\"Result:\", outcome)\n",
        "\n",
        "  log_result(student_name, \"Grading Rule\", outcome)"
      ],
      "metadata": {
        "id": "7UrKKsdLmSLd"
      },
      "execution_count": 39,
      "outputs": []
    },
    {
      "cell_type": "code",
      "source": [
        "# ------ RULE 3: Login System ---------\n",
        "def login_rule(student_name):\n",
        "  print(\"\\n--- Login Rule Checker ---\")\n",
        "  correct_password = \"admin123\"\n",
        "  attempt = input(\"Enter password: \")\n",
        "\n",
        "  P = (attempt != correct_password)  # Password correct?\n",
        "  Q = (attempt == correct_password)  # Access granted if correct\n",
        "  result = impl(P, Q)\n",
        "  outcome = \"Access granted 🍀\" if result else \"Access denied 💥\"\n",
        "\n",
        "  print(f\"P = {tf(P)} (Password Correct), Q = {tf(Q)} (Access Granted)\")\n",
        "  print(\"Result:\", outcome)"
      ],
      "metadata": {
        "id": "mpZtTzJXmVqI"
      },
      "execution_count": 40,
      "outputs": []
    },
    {
      "cell_type": "code",
      "source": [
        "# ------ RULE 4: Bonus Points ------\n",
        "def bonus_rule(student_name):\n",
        "  print(\"\\n--- Bonus Points Eligibility Checker ---\")\n",
        "  regular = input(\"Does the student have regular attendance? (T/F): \").strip().upper() == \"T\"\n",
        "  bonus = regular # eligible if regular\n",
        "  result = impl(regular, bonus)\n",
        "  outcome = \"Satisfied 🍀\" if result else \"Violated 💥\"\n",
        "\n",
        "  print(f\"P = {tf(regular)} (Regular Attendance), Q = {tf(bonus)} (Bonus Eligible)\")\n",
        "  print(\"Result:\", outcome)\n",
        "  log_result(student_name, \"Bonus Rule\", outcome)"
      ],
      "metadata": {
        "id": "Su9yp31AmYog"
      },
      "execution_count": 41,
      "outputs": []
    },
    {
      "cell_type": "code",
      "source": [
        "# ------- Main Menu -------\n",
        "def main():\n",
        "  print(\"=== University Logic Rules System ===\")\n",
        "  student_name = input(\"Enter student name: \").strip()\n",
        "\n",
        "  while True:\n",
        "    print(\"\\n==============\")\n",
        "    print(\" Main Menu \")\n",
        "    print(\"==================\")\n",
        "    print(\"1) Attendance Rule Checker\")\n",
        "    print(\"2) Grading Rule Checker\")\n",
        "    print(\"3) Login System Rule Checker\")\n",
        "    print(\"4) Bonus Points Checker\")\n",
        "    print(\"5) Exit\")\n",
        "\n",
        "    choice = input(\"Choose an option (1-5): \").strip()\n",
        "\n",
        "    if choice == \"1\":\n",
        "      attendance_rule(student_name)\n",
        "    elif choice == \"2\":\n",
        "      grading_rule(student_name)\n",
        "    elif choice == \"3\":\n",
        "      login_rule(student_name)\n",
        "    elif choice == \"4\":\n",
        "      bonus_rule(student_name)\n",
        "    elif choice == \"5\":\n",
        "      print(\"Existing... Results saved to logic_results.csv\")\n",
        "      break\n",
        "    else:\n",
        "      print(\"Invalid choice. Try again. 💥\")\n",
        "\n",
        "if __name__== \"__main__\":\n",
        "  # Create CSV with headers if not exists\n",
        "  with open(\"logic_results.csv\", \"a\", newline=\"\") as file:\n",
        "    writer = csv.writer(file)\n",
        "    if file.tell() == 0: # only write header if file is empty\n",
        "      writer.writerow([\"Timestamp\", \"Student Name\", \"Rule\", \"Result\"])\n",
        "    main()"
      ],
      "metadata": {
        "colab": {
          "base_uri": "https://localhost:8080/"
        },
        "collapsed": true,
        "id": "RE7N9902meyR",
        "outputId": "1ce62f8b-4ff9-44ec-881e-d6e707742492"
      },
      "execution_count": null,
      "outputs": [
        {
          "output_type": "stream",
          "name": "stdout",
          "text": [
            "=== University Logic Rules System ===\n",
            "Enter student name: T\n",
            "\n",
            "==============\n",
            " Main Menu \n",
            "==================\n",
            "1) Attendance Rule Checker\n",
            "2) Grading Rule Checker\n",
            "3) Login System Rule Checker\n",
            "4) Bonus Points Checker\n",
            "5) Exit\n",
            "Choose an option (1-5): 1\n",
            "\n",
            "--- Attendance Rule Checker ----\n",
            "Is the student late? (T/F): T\n",
            "Did the student bring excuse letter? (T/F): F\n",
            "P = T (Late), Q = F (Excuse Letter)\n",
            "Result: Violated 💥\n",
            "\n",
            "==============\n",
            " Main Menu \n",
            "==================\n",
            "1) Attendance Rule Checker\n",
            "2) Grading Rule Checker\n",
            "3) Login System Rule Checker\n",
            "4) Bonus Points Checker\n",
            "5) Exit\n",
            "Choose an option (1-5): 2\n",
            "\n",
            "--- Grading Rule Checker\n",
            "Enter student grade: 66\n",
            "P = T (grade >= 75), Q = F (student passes)\n",
            "Result: Violated 💥\n",
            "\n",
            "==============\n",
            " Main Menu \n",
            "==================\n",
            "1) Attendance Rule Checker\n",
            "2) Grading Rule Checker\n",
            "3) Login System Rule Checker\n",
            "4) Bonus Points Checker\n",
            "5) Exit\n",
            "Choose an option (1-5): 3\n",
            "\n",
            "--- Login Rule Checker ---\n",
            "Enter password: a22\n",
            "P = T (Password Correct), Q = F (Access Granted)\n",
            "Result: Access denied 💥\n",
            "\n",
            "==============\n",
            " Main Menu \n",
            "==================\n",
            "1) Attendance Rule Checker\n",
            "2) Grading Rule Checker\n",
            "3) Login System Rule Checker\n",
            "4) Bonus Points Checker\n",
            "5) Exit\n",
            "Choose an option (1-5): 4\n",
            "\n",
            "--- Bonus Points Eligibility Checker ---\n",
            "Does the student have regular attendance? (T/F): F\n",
            "P = F (Regular Attendance), Q = F (Bonus Eligible)\n",
            "Result: Satisfied 🍀\n",
            "\n",
            "==============\n",
            " Main Menu \n",
            "==================\n",
            "1) Attendance Rule Checker\n",
            "2) Grading Rule Checker\n",
            "3) Login System Rule Checker\n",
            "4) Bonus Points Checker\n",
            "5) Exit\n"
          ]
        }
      ]
    }
  ]
}
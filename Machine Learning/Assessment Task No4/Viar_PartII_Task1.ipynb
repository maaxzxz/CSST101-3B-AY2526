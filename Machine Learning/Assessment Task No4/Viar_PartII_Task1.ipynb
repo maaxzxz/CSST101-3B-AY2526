{
  "nbformat": 4,
  "nbformat_minor": 0,
  "metadata": {
    "colab": {
      "provenance": []
    },
    "kernelspec": {
      "name": "python3",
      "display_name": "Python 3"
    },
    "language_info": {
      "name": "python"
    }
  },
  "cells": [
    {
      "cell_type": "code",
      "execution_count": null,
      "metadata": {
        "id": "ojY1H0RYTzJU"
      },
      "outputs": [],
      "source": [
        "#List of known non-flying birds\n",
        "exceptions = {\n",
        "    \"penguin\": \"Penguins do not fly.\",\n",
        "    \"ostrich\": \"Ostriches do not fly.\",\n",
        "    \"emu\": \"Emus do not fly.\",\n",
        "    \"kiwi\": \"Kiwis do not fly.\"\n",
        "}\n",
        "\n",
        "#List of birds for the basic reasoning\n",
        "birds = [\"penguin\", \"ostrich\", \"sparrow\", \"eagle\", \"parrot\", \"crow\", \"emu\", \"kiwi\", \"duck\"]\n",
        "\n",
        "#Get user input\n",
        "animal = input(\"Enter an animal: \").strip().lower()\n",
        "\n",
        "#Reasoning Process\n",
        "print(f\"\\nInput: {animal}\")\n",
        "\n",
        "if animal in birds:\n",
        "    print(f\"Reasoning: {animal.capitalize()}s are birds.\")\n",
        "    #Revise conclusion if exception\n",
        "    if animal in exceptions:\n",
        "        print(f\"However, {exceptions[animal]}\")\n",
        "        print(f\"Conclusion: {animal}s cannot fly.\")\n",
        "    else:\n",
        "        print(f\"Therefore, {animal}s can fly.\")\n",
        "        print(f\"Conclusion: {animal}s can fly.\")\n",
        "else:\n",
        "    print(f\"Reasoning: {animal.capitalize()} is not a bird.\")\n",
        "    print(f\"Conclusion: Cannot determine flight ability with the current rule.\")\n"
      ]
    }
  ]
}
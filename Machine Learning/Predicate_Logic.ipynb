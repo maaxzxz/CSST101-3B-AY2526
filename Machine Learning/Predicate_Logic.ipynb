{
  "nbformat": 4,
  "nbformat_minor": 0,
  "metadata": {
    "colab": {
      "provenance": []
    },
    "kernelspec": {
      "name": "python3",
      "display_name": "Python 3"
    },
    "language_info": {
      "name": "python"
    }
  },
  "cells": [
    {
      "cell_type": "markdown",
      "source": [
        "# **1. Unification Checker**"
      ],
      "metadata": {
        "id": "Zt4utomBoLxv"
      }
    },
    {
      "cell_type": "code",
      "execution_count": 1,
      "metadata": {
        "colab": {
          "base_uri": "https://localhost:8080/"
        },
        "id": "t1x69ECioK7c",
        "outputId": "77e9e991-b9d2-4b60-9e76-067a5850985b"
      },
      "outputs": [
        {
          "output_type": "stream",
          "name": "stdout",
          "text": [
            "{'x': 'y'}\n",
            "Cannot be unified\n"
          ]
        }
      ],
      "source": [
        "def unify(p1, p2):\n",
        "    f1, f2 = p1.split(\"(\")[0], p2.split(\"(\")[0]\n",
        "    if f1 != f2: return \"Cannot be unified\"\n",
        "\n",
        "    a1, a2 = p1[p1.find(\"(\")+1:-1].split(\",\"), p2[p2.find(\"(\")+1:-1].split(\",\")\n",
        "    if len(a1) != len(a2): return \"Cannot be unified\"\n",
        "\n",
        "    subs = {}\n",
        "    for x, y in zip(a1, a2):\n",
        "        x, y = x.strip(), y.strip()\n",
        "        if x == y: continue\n",
        "        if x.islower(): subs[x] = y\n",
        "        elif y.islower(): subs[y] = x\n",
        "        else: return \"Cannot be unified\"\n",
        "\n",
        "    return subs or \"Already unified\"\n",
        "\n",
        "# Test\n",
        "print(unify(\"Parent(John, x)\", \"Parent(John, y)\"))\n",
        "print(unify(\"Knows(John, x)\", \"Knows(Mary, y)\"))\n"
      ]
    },
    {
      "cell_type": "markdown",
      "source": [
        "# **2. Forward Chaining**"
      ],
      "metadata": {
        "id": "GWAr5r-2oaQU"
      }
    },
    {
      "cell_type": "code",
      "source": [
        "facts = [\"Employee(KeiCel)\"]\n",
        "rules = [(\"Employee\", \"Resign\"), (\"Resign\", \"Poor\")]\n",
        "\n",
        "seen = set(facts)\n",
        "\n",
        "for p, c in rules:\n",
        "    for f in list(facts):\n",
        "        if f.startswith(p):\n",
        "            name = f[f.find(\"(\")+1:-1]\n",
        "            new_fact = f\"{c}({name})\"\n",
        "            if new_fact not in seen:\n",
        "                facts.append(new_fact)\n",
        "                seen.add(new_fact)\n",
        "\n",
        "print(\"Final facts:\", facts)"
      ],
      "metadata": {
        "colab": {
          "base_uri": "https://localhost:8080/"
        },
        "id": "NjOfrt6zofwU",
        "outputId": "2b4c5536-ed8b-42d9-f646-2904e2a711c7"
      },
      "execution_count": 28,
      "outputs": [
        {
          "output_type": "stream",
          "name": "stdout",
          "text": [
            "Final facts: ['Employee(KeiCel)', 'Resign(KeiCel)', 'Poor(KeiCel)']\n"
          ]
        }
      ]
    },
    {
      "cell_type": "markdown",
      "source": [
        "# **3. Backward Chaining**"
      ],
      "metadata": {
        "id": "J_xhWNeJoiS0"
      }
    },
    {
      "cell_type": "code",
      "source": [
        "facts = {\"Student(Carlos)\", \"Studies(Carlos)\", \"Submits(Carlos, IT101)\"}\n",
        "premises = [\"Studies(x)\", \"Submits(x, IT101)\"]\n",
        "conclusion = \"Passed(x, IT101)\"\n",
        "\n",
        "facts = {\"Student(Ana)\", \"Studies(Ana)\", \"Submits(Ana, IT101)\"}\n",
        "premises = [\"Studies(x)\", \"Submits(x, IT101)\"]\n",
        "conclusion = \"Passed(x, IT101)\"\n",
        "\n",
        "def prove(goal):\n",
        "    if goal in facts: return True\n",
        "    if goal.startswith(\"Passed(\"):\n",
        "        name = goal[goal.find(\"(\")+1:goal.find(\",\")]\n",
        "        return all(prove(p.replace(\"x\", name)) for p in premises)\n",
        "    return False\n",
        "\n",
        "print(\"Carlos Passed?\", prove(\"Passed(Carlos, IT101)\"))\n",
        "print(\"Ana Passed?\", prove(\"Passed(Ana, IT101)\"))\n"
      ],
      "metadata": {
        "colab": {
          "base_uri": "https://localhost:8080/"
        },
        "id": "LfD5-0asolQs",
        "outputId": "f1dd4eb0-317d-4a3a-daf0-307c257cb08a"
      },
      "execution_count": 23,
      "outputs": [
        {
          "output_type": "stream",
          "name": "stdout",
          "text": [
            "Carlos Passed? False\n",
            "Ana Passed? True\n"
          ]
        }
      ]
    }
  ]
}
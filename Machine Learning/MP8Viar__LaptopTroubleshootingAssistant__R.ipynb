{
  "nbformat": 4,
  "nbformat_minor": 0,
  "metadata": {
    "colab": {
      "provenance": []
    },
    "kernelspec": {
      "name": "ir",
      "display_name": "R"
    },
    "language_info": {
      "name": "R"
    }
  },
  "cells": [
    {
      "cell_type": "code",
      "execution_count": 1,
      "metadata": {
        "id": "B4Fuh8WHg-fl",
        "colab": {
          "base_uri": "https://localhost:8080/"
        },
        "outputId": "9f05fb3c-e741-48cd-ae67-b25cdb6140d2"
      },
      "outputs": [
        {
          "output_type": "stream",
          "name": "stdout",
          "text": [
            "Do you prefer mountains or beach? beach\n",
            "What is your budget in PHP? 500\n",
            "[1] \"Suggested destination: Laiya, Batangas.\"\n"
          ]
        }
      ],
      "source": [
        "# Title: Travel Recommender Expert System\n",
        "destination <- readline(prompt=\"Do you prefer mountains or beach? \")\n",
        "\n",
        "if (destination == \"mountains\") {\n",
        "  weather <- readline(prompt=\"Do you like cold weather? (yes/no): \")\n",
        "  if (weather == \"yes\") {\n",
        "    print(\"Suggested destination: Baguio City.\")\n",
        "  } else {\n",
        "    print(\"Suggested destination: Tagaytay.\")\n",
        "  }\n",
        "} else if (destination == \"beach\") {\n",
        "  budget <- as.numeric(readline(prompt=\"What is your budget in PHP? \"))\n",
        "  if (budget > 5000) {\n",
        "    print(\"Suggested destination: Boracay.\")\n",
        "  } else {\n",
        "    print(\"Suggested destination: Laiya, Batangas.\")\n",
        "  }\n",
        "} else {\n",
        "  print(\"Please select either mountains or beach.\")\n",
        "}\n"
      ]
    },
    {
      "cell_type": "code",
      "source": [
        "# Title: Laptop troubleshooting assistant\n",
        "print(\"~~~~~~~~ LAPTOP TROUBLESHOOTING ~~~~~~~~\")\n",
        "issue <- tolower(readline(prompt=\"What troubleshoot did you encountered? ( Charging, Screen light fails, Blank Screen, Weird Noise, Freezes): \"))\n",
        "\n",
        "if (issue == \"charging\") {\n",
        "  answer <- readline(prompt=\"Does it charging when you touching it?) (yes/no): \")\n",
        "  if (answer == \"yes\") {\n",
        "    print(\"Suggested solution: Adjust the adapter by moving the cord slightly.\")\n",
        "  } else {\n",
        "    print(\"Suggested solution: Replace it <3. \")\n",
        "  }\n",
        "} else if (issue == \"screen light fails\") {\n",
        "  answer2 <- readline(prompt=\"Does the it shows dim screens or failing screen lights? (yes/no) \")\n",
        "  if (answer2 == \"yes\") {\n",
        "    print(\"Suggested solution: Try replacing the components to repair.\")\n",
        "  } else {\n",
        "    print(\"Suggested solution: Replace your monitor\")\n",
        "  }\n",
        "} else if (issue == \"blank screen\") {\n",
        "  answer3 <- readline(prompt=\"Does it shows signs that it is on? (yes/no) (yes/no)\")\n",
        "  if (answer3 == \"yes\") {\n",
        "    print(\"Suggested solution: Try to unplug your laptop from its power source.\")\n",
        "  } else {\n",
        "    print(\"Suggested solution: Replace the battery and restart the laptop again\")\n",
        "  }\n",
        "} else if (issue == \"weird noise\") {\n",
        "  answer4 <- readline(prompt=\"Does it make some noise when they are on? (yes/no)\")\n",
        "  if (answer4 == \"yes\") {\n",
        "    print(\"Suggested solution: Check the cooling fan .\")\n",
        "  } else {\n",
        "    print(\"Suggested solution: Back up your files before replacing the hard drive\")\n",
        "  }\n",
        "} else if (issue == \"freezes\") {\n",
        "  answer6 <- readline(prompt=\"Does it freeze a few minutes later? (yes/no)\")\n",
        "  if (answer6 == \"yes\") {\n",
        "    print(\"Suggested solution: Test the bottom. If it is hot, the issue is related to heat\")\n",
        "  } else {\n",
        "    print(\"Suggested solution: Clean out your fan to prevent dust from clogging\")\n",
        "  }\n",
        "} else {\n",
        "  print(\"Please select a valid troubleshooting option.\")\n",
        "}"
      ],
      "metadata": {
        "colab": {
          "base_uri": "https://localhost:8080/"
        },
        "id": "ClomXLaD3ls6",
        "outputId": "0e055854-f7b4-49c6-e475-662ccc34b8cb"
      },
      "execution_count": 16,
      "outputs": [
        {
          "output_type": "stream",
          "name": "stdout",
          "text": [
            "[1] \"~~~~~~~~ LAPTOP TROUBLESHOOTING ~~~~~~~~\"\n"
          ]
        }
      ]
    },
    {
      "cell_type": "code",
      "source": [],
      "metadata": {
        "id": "DpEuA4C672E6"
      },
      "execution_count": null,
      "outputs": []
    }
  ]
}
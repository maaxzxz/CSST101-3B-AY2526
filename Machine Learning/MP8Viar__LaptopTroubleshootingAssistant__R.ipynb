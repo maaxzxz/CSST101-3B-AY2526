{
  "nbformat": 4,
  "nbformat_minor": 0,
  "metadata": {
    "colab": {
      "provenance": []
    },
    "kernelspec": {
      "name": "ir",
      "display_name": "R"
    },
    "language_info": {
      "name": "R"
    }
  },
  "cells": [
    {
      "cell_type": "code",
      "source": [
        "# Title: Laptop troubleshooting assistant\n",
        "print(\"~~~~~~~~ LAPTOP TROUBLESHOOTING ~~~~~~~~\")\n",
        "issue <- tolower(readline(prompt=\"What troubleshoot did you encountered? ( Charging, Screen light fails, Blank Screen, Weird Noise, Freezes): \"))\n",
        "\n",
        "if (issue == \"charging\") {\n",
        "  answer <- readline(prompt=\"Does it charging when you touching it?) (yes/no): \")\n",
        "  if (answer == \"yes\") {\n",
        "    print(\"Suggested solution: Adjust the adapter by moving the cord slightly.\")\n",
        "  } else {\n",
        "    print(\"Suggested solution: Replace it <3. \")\n",
        "  }\n",
        "} else if (issue == \"screen light fails\") {\n",
        "  answer2 <- readline(prompt=\"Does the it shows dim screens or failing screen lights? (yes/no) \")\n",
        "  if (answer2 == \"yes\") {\n",
        "    print(\"Suggested solution: Try replacing the components to repair.\")\n",
        "  } else {\n",
        "    print(\"Suggested solution: Replace your monitor\")\n",
        "  }\n",
        "} else if (issue == \"blank screen\") {\n",
        "  answer3 <- readline(prompt=\"Does it shows signs that it is on? (yes/no) (yes/no)\")\n",
        "  if (answer3 == \"yes\") {\n",
        "    print(\"Suggested solution: Try to unplug your laptop from its power source.\")\n",
        "  } else {\n",
        "    print(\"Suggested solution: Replace the battery and restart the laptop again\")\n",
        "  }\n",
        "} else if (issue == \"weird noise\") {\n",
        "  answer4 <- readline(prompt=\"Does it make some noise when they are on? (yes/no)\")\n",
        "  if (answer4 == \"yes\") {\n",
        "    print(\"Suggested solution: Check the cooling fan .\")\n",
        "  } else {\n",
        "    print(\"Suggested solution: Back up your files before replacing the hard drive\")\n",
        "  }\n",
        "} else if (issue == \"freezes\") {\n",
        "  answer6 <- readline(prompt=\"Does it freeze a few minutes later? (yes/no)\")\n",
        "  if (answer6 == \"yes\") {\n",
        "    print(\"Suggested solution: Test the bottom. If it is hot, the issue is related to heat\")\n",
        "  } else {\n",
        "    print(\"Suggested solution: Clean out your fan to prevent dust from clogging\")\n",
        "  }\n",
        "} else {\n",
        "  print(\"Please select a valid troubleshooting option.\")\n",
        "}"
      ],
      "metadata": {
        "colab": {
          "base_uri": "https://localhost:8080/"
        },
        "id": "ClomXLaD3ls6",
        "outputId": "c3a11f7a-198b-492a-80ed-ccc309516d5d"
      },
      "execution_count": 18,
      "outputs": [
        {
          "output_type": "stream",
          "name": "stdout",
          "text": [
            "[1] \"~~~~~~~~ LAPTOP TROUBLESHOOTING ~~~~~~~~\"\n",
            "What troubleshoot did you encountered? ( Charging, Screen light fails, Blank Screen, Weird Noise, Freezes): charging\n",
            "Does it charging when you touching it?) (yes/no): yes\n",
            "[1] \"Suggested solution: Adjust the adapter by moving the cord slightly.\"\n"
          ]
        }
      ]
    },
    {
      "cell_type": "code",
      "source": [],
      "metadata": {
        "id": "DpEuA4C672E6"
      },
      "execution_count": null,
      "outputs": []
    }
  ]
}